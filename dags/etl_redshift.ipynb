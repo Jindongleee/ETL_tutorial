{
 "cells": [
  {
   "cell_type": "code",
   "execution_count": 5,
   "id": "ae153d42",
   "metadata": {},
   "outputs": [],
   "source": [
    "# Mysql -> S3 -> Redshift"
   ]
  },
  {
   "cell_type": "code",
   "execution_count": 6,
   "id": "096f0af2",
   "metadata": {},
   "outputs": [],
   "source": [
    "import sys"
   ]
  },
  {
   "cell_type": "code",
   "execution_count": 7,
   "id": "e3e671b5",
   "metadata": {},
   "outputs": [
    {
     "name": "stdout",
     "output_type": "stream",
     "text": [
      "/Users/eddy/workspace/ETL_tutorial/.venv/bin/python\n"
     ]
    }
   ],
   "source": [
    "print(sys.executable)"
   ]
  },
  {
   "cell_type": "code",
   "execution_count": 26,
   "id": "0b5d77a4",
   "metadata": {},
   "outputs": [],
   "source": [
    "from airflow.providers.standard.operators.python import PythonOperator"
   ]
  },
  {
   "cell_type": "code",
   "execution_count": 8,
   "id": "07b455ab",
   "metadata": {},
   "outputs": [
    {
     "data": {
      "text/html": [
       "<pre style=\"white-space:pre;overflow-x:auto;line-height:normal;font-family:Menlo,'DejaVu Sans Mono',consolas,'Courier New',monospace\"><span style=\"color: #808000; text-decoration-color: #808000; font-weight: bold\">/Users/eddy/workspace/ETL_tutorial/.venv/lib/python3.11/site-packages/airflow/configuration.py:</span><span style=\"color: #808000; text-decoration-color: #808000; font-weight: bold\">814</span><span style=\"color: #808000; text-decoration-color: #808000; font-weight: bold\"> DeprecationWarning</span><span style=\"color: #808000; text-decoration-color: #808000\">: The grid_view_sorting_order option in </span><span style=\"color: #808000; text-decoration-color: #808000; font-weight: bold\">[</span><span style=\"color: #808000; text-decoration-color: #808000\">webserver</span><span style=\"color: #808000; text-decoration-color: #808000; font-weight: bold\">]</span><span style=\"color: #808000; text-decoration-color: #808000\"> has been moved to the grid_view_sorting_order option in </span><span style=\"color: #808000; text-decoration-color: #808000; font-weight: bold\">[</span><span style=\"color: #808000; text-decoration-color: #808000\">api</span><span style=\"color: #808000; text-decoration-color: #808000; font-weight: bold\">]</span><span style=\"color: #808000; text-decoration-color: #808000\"> - the old setting has been used, but please update your config.</span>\n",
       "</pre>\n"
      ],
      "text/plain": [
       "\u001b[1;33m/Users/eddy/workspace/ETL_tutorial/.venv/lib/python3.11/site-packages/airflow/\u001b[0m\u001b[1;33mconfiguration.py\u001b[0m\u001b[1;33m:\u001b[0m\u001b[1;33m814\u001b[0m\u001b[1;33m DeprecationWarning\u001b[0m\u001b[33m: The grid_view_sorting_order option in \u001b[0m\u001b[1;33m[\u001b[0m\u001b[33mwebserver\u001b[0m\u001b[1;33m]\u001b[0m\u001b[33m has been moved to the grid_view_sorting_order option in \u001b[0m\u001b[1;33m[\u001b[0m\u001b[33mapi\u001b[0m\u001b[1;33m]\u001b[0m\u001b[33m - the old setting has been used, but please update your config.\u001b[0m\n"
      ]
     },
     "metadata": {},
     "output_type": "display_data"
    },
    {
     "data": {
      "text/html": [
       "<pre style=\"white-space:pre;overflow-x:auto;line-height:normal;font-family:Menlo,'DejaVu Sans Mono',consolas,'Courier New',monospace\"><span style=\"color: #808000; text-decoration-color: #808000; font-weight: bold\">/Users/eddy/workspace/ETL_tutorial/.venv/lib/python3.11/site-packages/airflow/configuration.py:</span><span style=\"color: #808000; text-decoration-color: #808000; font-weight: bold\">815</span><span style=\"color: #808000; text-decoration-color: #808000; font-weight: bold\"> DeprecationWarning</span><span style=\"color: #808000; text-decoration-color: #808000\">: The grid_view_sorting_order option in </span><span style=\"color: #808000; text-decoration-color: #808000; font-weight: bold\">[</span><span style=\"color: #808000; text-decoration-color: #808000\">webserver</span><span style=\"color: #808000; text-decoration-color: #808000; font-weight: bold\">]</span><span style=\"color: #808000; text-decoration-color: #808000\"> has been moved to the grid_view_sorting_order option in </span><span style=\"color: #808000; text-decoration-color: #808000; font-weight: bold\">[</span><span style=\"color: #808000; text-decoration-color: #808000\">api</span><span style=\"color: #808000; text-decoration-color: #808000; font-weight: bold\">]</span><span style=\"color: #808000; text-decoration-color: #808000\"> - the old setting has been used, but please update your config.</span>\n",
       "</pre>\n"
      ],
      "text/plain": [
       "\u001b[1;33m/Users/eddy/workspace/ETL_tutorial/.venv/lib/python3.11/site-packages/airflow/\u001b[0m\u001b[1;33mconfiguration.py\u001b[0m\u001b[1;33m:\u001b[0m\u001b[1;33m815\u001b[0m\u001b[1;33m DeprecationWarning\u001b[0m\u001b[33m: The grid_view_sorting_order option in \u001b[0m\u001b[1;33m[\u001b[0m\u001b[33mwebserver\u001b[0m\u001b[1;33m]\u001b[0m\u001b[33m has been moved to the grid_view_sorting_order option in \u001b[0m\u001b[1;33m[\u001b[0m\u001b[33mapi\u001b[0m\u001b[1;33m]\u001b[0m\u001b[33m - the old setting has been used, but please update your config.\u001b[0m\n"
      ]
     },
     "metadata": {},
     "output_type": "display_data"
    }
   ],
   "source": [
    "from airflow import DAG"
   ]
  },
  {
   "cell_type": "code",
   "execution_count": 9,
   "id": "04bbb89d",
   "metadata": {},
   "outputs": [
    {
     "data": {
      "text/html": [
       "<pre style=\"white-space:pre;overflow-x:auto;line-height:normal;font-family:Menlo,'DejaVu Sans Mono',consolas,'Courier New',monospace\"><span style=\"color: #808000; text-decoration-color: #808000; font-weight: bold\">/var/folders/n1/fwqfkrg14bv45svdswv4v5h80000gn/T/ipykernel_59383/461728536.py:</span><span style=\"color: #808000; text-decoration-color: #808000; font-weight: bold\">2</span><span style=\"color: #808000; text-decoration-color: #808000; font-weight: bold\"> DeprecatedImportWarning</span><span style=\"color: #808000; text-decoration-color: #808000\">: The `airflow.operators.python.PythonOperator` attribute is deprecated. Please use `</span><span style=\"color: #808000; text-decoration-color: #808000\">'airflow.providers.standard.operators.python.PythonOperator'</span><span style=\"color: #808000; text-decoration-color: #808000\">`.</span>\n",
       "</pre>\n"
      ],
      "text/plain": [
       "\u001b[1;33m/var/folders/n1/fwqfkrg14bv45svdswv4v5h80000gn/T/ipykernel_59383/\u001b[0m\u001b[1;33m461728536.py\u001b[0m\u001b[1;33m:\u001b[0m\u001b[1;33m2\u001b[0m\u001b[1;33m DeprecatedImportWarning\u001b[0m\u001b[33m: The `airflow.operators.python.PythonOperator` attribute is deprecated. Please use `\u001b[0m\u001b[33m'airflow.providers.standard.operators.python.PythonOperator'\u001b[0m\u001b[33m`.\u001b[0m\n"
      ]
     },
     "metadata": {},
     "output_type": "display_data"
    }
   ],
   "source": [
    "# Airflow에서 Python 함수를 Task로 실행하기 위한 PythonOperator 클래스 불러오기\n",
    "from airflow.operators.python import PythonOperator"
   ]
  },
  {
   "cell_type": "code",
   "execution_count": 10,
   "id": "bca996f9",
   "metadata": {},
   "outputs": [],
   "source": [
    "from airflow.providers.amazon.aws.hooks.s3 import S3Hook\n"
   ]
  },
  {
   "cell_type": "code",
   "execution_count": 11,
   "id": "84c82266",
   "metadata": {},
   "outputs": [],
   "source": [
    "from airflow.providers.postgres.hooks.postgres import PostgresHook\n"
   ]
  },
  {
   "cell_type": "code",
   "execution_count": 12,
   "id": "34e5fabb",
   "metadata": {},
   "outputs": [
    {
     "data": {
      "text/html": [
       "<pre style=\"white-space:pre;overflow-x:auto;line-height:normal;font-family:Menlo,'DejaVu Sans Mono',consolas,'Courier New',monospace\"><span style=\"color: #808000; text-decoration-color: #808000; font-weight: bold\">/var/folders/n1/fwqfkrg14bv45svdswv4v5h80000gn/T/ipykernel_59383/1774103291.py:</span><span style=\"color: #808000; text-decoration-color: #808000; font-weight: bold\">1</span><span style=\"color: #808000; text-decoration-color: #808000; font-weight: bold\"> DeprecatedImportWarning</span><span style=\"color: #808000; text-decoration-color: #808000\">: The `airflow.operators.python.PythonOperator` attribute is deprecated. Please use `</span><span style=\"color: #808000; text-decoration-color: #808000\">'airflow.providers.standard.operators.python.PythonOperator'</span><span style=\"color: #808000; text-decoration-color: #808000\">`.</span>\n",
       "</pre>\n"
      ],
      "text/plain": [
       "\u001b[1;33m/var/folders/n1/fwqfkrg14bv45svdswv4v5h80000gn/T/ipykernel_59383/\u001b[0m\u001b[1;33m1774103291.py\u001b[0m\u001b[1;33m:\u001b[0m\u001b[1;33m1\u001b[0m\u001b[1;33m DeprecatedImportWarning\u001b[0m\u001b[33m: The `airflow.operators.python.PythonOperator` attribute is deprecated. Please use `\u001b[0m\u001b[33m'airflow.providers.standard.operators.python.PythonOperator'\u001b[0m\u001b[33m`.\u001b[0m\n"
      ]
     },
     "metadata": {},
     "output_type": "display_data"
    }
   ],
   "source": [
    "from airflow.operators.python import PythonOperator"
   ]
  },
  {
   "cell_type": "code",
   "execution_count": 13,
   "id": "a9e874a2",
   "metadata": {},
   "outputs": [],
   "source": [
    "from airflow.providers.mysql.hooks.mysql import MySqlHook"
   ]
  },
  {
   "cell_type": "code",
   "execution_count": 14,
   "id": "dc80e17f",
   "metadata": {},
   "outputs": [],
   "source": [
    "from datetime import datetime"
   ]
  },
  {
   "cell_type": "code",
   "execution_count": 15,
   "id": "de8a15f8",
   "metadata": {},
   "outputs": [],
   "source": [
    "import pandas as pd"
   ]
  },
  {
   "cell_type": "code",
   "execution_count": 20,
   "id": "dffaaa3b",
   "metadata": {},
   "outputs": [],
   "source": [
    "import os\n",
    "from dotenv import load_dotenv"
   ]
  },
  {
   "cell_type": "code",
   "execution_count": null,
   "id": "70d439c9",
   "metadata": {},
   "outputs": [],
   "source": [
    "file_path = 'redshift_users.csv'"
   ]
  },
  {
   "cell_type": "code",
   "execution_count": 22,
   "id": "20ef86c7",
   "metadata": {},
   "outputs": [
    {
     "data": {
      "text/plain": [
       "str"
      ]
     },
     "execution_count": 22,
     "metadata": {},
     "output_type": "execute_result"
    }
   ],
   "source": [
    "# .env 쓰기\n",
    "load_dotenv()\n",
    "aws_iam = os.getenv(\"IAM\")\n",
    "\n",
    "type(aws_iam)"
   ]
  },
  {
   "cell_type": "code",
   "execution_count": null,
   "id": "f7bcec0d",
   "metadata": {},
   "outputs": [],
   "source": [
    "# 운영 DB에서 extract\n",
    "def extract_msyql(**context):\n",
    "    mysql = MySqlHook(mysql_conn_ind = 'mysql_default') # \n",
    "    df = mysql.get_pandas_df('select * from users;')\n",
    "    df.to_csv(file_path)\n",
    "    context['ti'].xcom_push(key='file_path', value = file_path)\n",
    "    "
   ]
  },
  {
   "cell_type": "code",
   "execution_count": 2,
   "id": "9935b6de",
   "metadata": {},
   "outputs": [],
   "source": [
    "def transform_data(**context):\n",
    "    file_path = context['ti'].xcom_pull(key='file_path', task_ids='extract')\n",
    "    df = pd.read_csv(file_path)\n",
    "    df[\"name\"] = df[\"name\"].str.upper()\n",
    "    df = df.fillna({\"country\":\"UNKNOWN\"})\n",
    "    transformed_path = \"users_clean.csv\"\n",
    "    df.to_csv(transform_data, index = False)\n",
    "    context['ti'].xcom_push(key=\"transformed_path\", value = transformed_path)"
   ]
  },
  {
   "cell_type": "code",
   "execution_count": null,
   "id": "726dd5bd",
   "metadata": {},
   "outputs": [],
   "source": [
    "# load s3\n",
    "def load_to_s3(**context):\n",
    "    s3 = S3Hook(aws_conn_id=\"aws_default\")\n",
    "    bucket_name = 'etl-tutorial-of-eddy' # 실제 object storage bucket 이름\n",
    "    key = 'users/users_clean.csv' # / 뒤 경로\n",
    "    s3.load_file(filename=transform_data, bucket_name=bucket_name, key=key, replace=True)\n",
    "    context['ti'].xcom_push(key='s3_path', value=f's3://{bucket_name}/{key}') "
   ]
  },
  {
   "cell_type": "code",
   "execution_count": null,
   "id": "458ed1fd",
   "metadata": {},
   "outputs": [],
   "source": [
    "# s3 -> redshift\n",
    "def copy_to_redshift(**context):\n",
    "    s3_path = context['ti'].xcom_pull(key = 's3_path', task_ids='load')\n",
    "    redshift = PostgresHook(postgres_conn_id='redshift_default')\n",
    "    conn = redshift.get_conn()\n",
    "    cur = conn.cursor()\n",
    "    cur.execute(\"\"\"\n",
    "                CREATE TABLE IF NOT EXISTS users(\n",
    "                    user_id INT,\n",
    "                    name VARCHAR(50),\n",
    "                    age INT,\n",
    "                    country VARCHAR(50)\n",
    "                );\n",
    "                \n",
    "                \"\"\")\n",
    "    copy_sql = f\"\"\"\n",
    "    COPY users\n",
    "    FROM '{s3_path}'\n",
    "    IAM_ROLE '{aws_iam}'\n",
    "    CSV IGNOREHEADER 1;\n",
    "    \"\"\"\n",
    "    cur.execute(copy_sql)\n",
    "    conn.commit()\n",
    "    cur.close()"
   ]
  },
  {
   "cell_type": "code",
   "execution_count": 25,
   "id": "37ae6683",
   "metadata": {},
   "outputs": [],
   "source": [
    "with DAG(\n",
    "    dag_id=\"etl_redshift\",\n",
    "    start_date=datetime(2025,1,1),\n",
    "    schedule= \"@daily\",\n",
    "    catchup=False\n",
    ") as dag:\n",
    "    extract = PythonOperator(task_id = \"extract\", python_callable=extract_msyql)\n",
    "    transform = PythonOperator(task_id = \"transform\", python_callable=transform_data)\n",
    "    load = PythonOperator(task_id=\"load\", python_callable=load_to_s3)\n",
    "    copy = PythonOperator(task_id=\"copy\", python_callable=copy_to_redshift)\n",
    "    extract >> transform >> load >> copy"
   ]
  },
  {
   "cell_type": "code",
   "execution_count": null,
   "id": "0bb90294",
   "metadata": {},
   "outputs": [],
   "source": []
  }
 ],
 "metadata": {
  "kernelspec": {
   "display_name": "etl-project",
   "language": "python",
   "name": "python3"
  },
  "language_info": {
   "codemirror_mode": {
    "name": "ipython",
    "version": 3
   },
   "file_extension": ".py",
   "mimetype": "text/x-python",
   "name": "python",
   "nbconvert_exporter": "python",
   "pygments_lexer": "ipython3",
   "version": "3.11.13"
  }
 },
 "nbformat": 4,
 "nbformat_minor": 5
}
